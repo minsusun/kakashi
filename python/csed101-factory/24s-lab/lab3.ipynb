{
 "cells": [
  {
   "cell_type": "code",
   "execution_count": 12,
   "metadata": {},
   "outputs": [
    {
     "name": "stdout",
     "output_type": "stream",
     "text": [
      "주사위 숫자: 1 (홀)\n"
     ]
    }
   ],
   "source": [
    "import random\n",
    "dice = random.randint(1, 6)\n",
    "print(\"주사위 숫자: %d (%s)\" % (dice, \"짝\" if dice % 2 == 0 else \"홀\"))"
   ]
  },
  {
   "cell_type": "code",
   "execution_count": 13,
   "metadata": {},
   "outputs": [
    {
     "name": "stdout",
     "output_type": "stream",
     "text": [
      "원 넓이: 78.54\n"
     ]
    }
   ],
   "source": [
    "from math import pi\n",
    "\n",
    "def calc_area(r):\n",
    "    return pi * r ** 2\n",
    "\n",
    "r = int(input(\"반지름 입력: \"))\n",
    "print(\"원 넓이: %.2f\" % calc_area(r))"
   ]
  },
  {
   "cell_type": "code",
   "execution_count": 14,
   "metadata": {},
   "outputs": [
    {
     "name": "stdout",
     "output_type": "stream",
     "text": [
      "[1, 1, 2, 2, 3, 5, 9]\n",
      "[1, 2, 3, 4, 5, 6, 9, 9]\n"
     ]
    }
   ],
   "source": [
    "def merge_list(l1, l2):\n",
    "    return sorted(l1 + l2)\n",
    "\n",
    "l = [3, 5, 9, 1, 2]\n",
    "ml1 = merge_list(l, [2, 1])\n",
    "ml2 = merge_list([6, 9, 4], l)\n",
    "\n",
    "print(ml1)\n",
    "print(ml2)"
   ]
  },
  {
   "cell_type": "code",
   "execution_count": 18,
   "metadata": {},
   "outputs": [
    {
     "name": "stdout",
     "output_type": "stream",
     "text": [
      "1\n",
      "9\n",
      "[3, 5, 2]\n"
     ]
    }
   ],
   "source": [
    "def get_min_max(l):\n",
    "    m = min(l)\n",
    "    M = max(l)\n",
    "    l.remove(m)\n",
    "    l.remove(M)\n",
    "    return m, M\n",
    "\n",
    "nlist = [3, 5, 9, 1, 2]\n",
    "min_val, max_val = get_min_max(nlist)\n",
    "print(min_val)\n",
    "print(max_val)\n",
    "print(nlist)"
   ]
  },
  {
   "cell_type": "code",
   "execution_count": 26,
   "metadata": {},
   "outputs": [
    {
     "name": "stdout",
     "output_type": "stream",
     "text": [
      "오늘 점심은 부대찌개입니다.\n"
     ]
    }
   ],
   "source": [
    "import random\n",
    "menu = [\"된장찌개\", \"부대찌개\", \"김치찌개\", \"삼계탕\", \"파스타\", \"돈까스\", \"쌀국수\"]\n",
    "print(\"오늘 점심은 %s입니다.\" % random.choice(menu))\n",
    "# print(\"오늘 점심은 %s입니다.\" % random.sample(menu, 1)[0])"
   ]
  },
  {
   "cell_type": "code",
   "execution_count": 28,
   "metadata": {},
   "outputs": [
    {
     "name": "stdout",
     "output_type": "stream",
     "text": [
      "가장 큰 수는 9입니다.\n"
     ]
    }
   ],
   "source": [
    "a, b, c = map(int, input(\"세 개의 수를 입력하시오: \").split())\n",
    "M = 0\n",
    "if a >= b and a >= c:\n",
    "    M = a\n",
    "elif b >=a and b >= c:\n",
    "    M = b\n",
    "elif c >= a and c >= b:\n",
    "    M = c\n",
    "\n",
    "print(\"가장 큰 수는 %d입니다.\" % M)"
   ]
  },
  {
   "cell_type": "code",
   "execution_count": 29,
   "metadata": {},
   "outputs": [
    {
     "name": "stdout",
     "output_type": "stream",
     "text": [
      "불합격: 총합 점수 부족\n"
     ]
    }
   ],
   "source": [
    "eng = int(input(\"영어 점수 입력: \"))\n",
    "math = int(input(\"수학 점수 입력: \"))\n",
    "\n",
    "if eng + math < 110:\n",
    "    print(\"불합격: 총합 점수 부족\")\n",
    "elif eng < 40:\n",
    "    print(\"불합격: 영어 점수 부족\")\n",
    "elif math < 40:\n",
    "    print(\"불합격: 수학 점수 부족\")\n",
    "else:\n",
    "    print(\"합격\")"
   ]
  }
 ],
 "metadata": {
  "kernelspec": {
   "display_name": "base",
   "language": "python",
   "name": "python3"
  },
  "language_info": {
   "codemirror_mode": {
    "name": "ipython",
    "version": 3
   },
   "file_extension": ".py",
   "mimetype": "text/x-python",
   "name": "python",
   "nbconvert_exporter": "python",
   "pygments_lexer": "ipython3",
   "version": "3.9.12"
  }
 },
 "nbformat": 4,
 "nbformat_minor": 2
}
