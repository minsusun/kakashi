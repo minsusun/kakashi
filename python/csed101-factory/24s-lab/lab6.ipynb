{
 "cells": [
  {
   "cell_type": "code",
   "execution_count": 5,
   "metadata": {},
   "outputs": [
    {
     "name": "stdout",
     "output_type": "stream",
     "text": [
      "file does not exist\n"
     ]
    }
   ],
   "source": [
    "import os\n",
    "\n",
    "file_name = input(\"Enter a file name: \")\n",
    "\n",
    "if os.path.exists(file_name):\n",
    "    with open(file_name, \"r\") as f:\n",
    "        for line in f:\n",
    "            print(line.upper(), end='')\n",
    "else:\n",
    "    print(\"file does not exist\")\n"
   ]
  },
  {
   "cell_type": "code",
   "execution_count": 7,
   "metadata": {},
   "outputs": [],
   "source": [
    "import os\n",
    "\n",
    "file_name = \"score.txt\"\n",
    "records = []\n",
    "\n",
    "if os.path.exists(file_name):\n",
    "    with open(file_name, \"r\") as f:\n",
    "        for line in f:\n",
    "            id, score1, score2 = line.split()\n",
    "            avg = (int(score1) + int(score2)) / 2\n",
    "            grade = \"\"\n",
    "            if avg >= 90:\n",
    "                grade = \"A\"\n",
    "            elif avg >= 80:\n",
    "                grade = \"B\"\n",
    "            elif avg >= 70:\n",
    "                grade = \"C\"\n",
    "            elif avg >= 60:\n",
    "                grade = \"D\"\n",
    "            else:\n",
    "                grade = \"F\"\n",
    "            record = \"%s %.1f(%s)\" % (id, avg, grade)\n",
    "            records.append(record)\n",
    "    with open(\"report.txt\", \"w\") as f:\n",
    "        for record in records:\n",
    "            f.write(record)\n",
    "            f.write(\"\\n\")"
   ]
  },
  {
   "cell_type": "code",
   "execution_count": null,
   "metadata": {},
   "outputs": [],
   "source": []
  }
 ],
 "metadata": {
  "kernelspec": {
   "display_name": "base",
   "language": "python",
   "name": "python3"
  },
  "language_info": {
   "codemirror_mode": {
    "name": "ipython",
    "version": 3
   },
   "file_extension": ".py",
   "mimetype": "text/x-python",
   "name": "python",
   "nbconvert_exporter": "python",
   "pygments_lexer": "ipython3",
   "version": "3.9.13"
  }
 },
 "nbformat": 4,
 "nbformat_minor": 2
}
