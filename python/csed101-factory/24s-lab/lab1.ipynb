{
 "cells": [
  {
   "cell_type": "code",
   "execution_count": 2,
   "metadata": {},
   "outputs": [
    {
     "name": "stdout",
     "output_type": "stream",
     "text": [
      "10 + 5 = 15\n",
      "10 - 5 = 5\n",
      "10 * 5 = 50\n",
      "10 / 5 = 2.00\n"
     ]
    }
   ],
   "source": [
    "num1 = int(input(\"첫 번째 정수를 입력하세요: \"))\n",
    "num2 = int(input(\"두 번째 정수를 입력하세요: \"))\n",
    "print(num1, \"+\", num2, \"=\", num1 + num2)\n",
    "print(f\"{num1} - {num2} = {num1 - num2}\")\n",
    "print(\"%d * %d = %d\" % (num1, num2, num1 * num2))\n",
    "print(\"{0:d} / {1:d} = {2:.1f}\".format(num1, num2, num1 / num2))"
   ]
  }
 ],
 "metadata": {
  "kernelspec": {
   "display_name": "Python 3",
   "language": "python",
   "name": "python3"
  },
  "language_info": {
   "codemirror_mode": {
    "name": "ipython",
    "version": 3
   },
   "file_extension": ".py",
   "mimetype": "text/x-python",
   "name": "python",
   "nbconvert_exporter": "python",
   "pygments_lexer": "ipython3",
   "version": "3.9.12"
  }
 },
 "nbformat": 4,
 "nbformat_minor": 2
}
