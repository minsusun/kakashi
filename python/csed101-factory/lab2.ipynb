{
 "cells": [
  {
   "cell_type": "code",
   "execution_count": 3,
   "metadata": {},
   "outputs": [
    {
     "name": "stdout",
     "output_type": "stream",
     "text": [
      "섭씨온도: 37.77777777777778\n"
     ]
    }
   ],
   "source": [
    "f = int(input(\"화씨온도: \"))\n",
    "print(\"섭씨온도:\", (f - 32) * 5 / 9)"
   ]
  },
  {
   "cell_type": "code",
   "execution_count": 8,
   "metadata": {},
   "outputs": [
    {
     "name": "stdout",
     "output_type": "stream",
     "text": [
      "원 둘레: 31.42\n",
      "원 넓이: 78.54\n"
     ]
    }
   ],
   "source": [
    "pi = 3.141592\n",
    "r = int(input(\"반지름을 입력하시오: \"))\n",
    "print(\"원 둘레: %.2f\" % (2 * pi * r))\n",
    "print(\"원 넓이: %.2f\" % (pi * r ** 2))"
   ]
  },
  {
   "cell_type": "code",
   "execution_count": 10,
   "metadata": {},
   "outputs": [
    {
     "name": "stdout",
     "output_type": "stream",
     "text": [
      "원 둘레: 31.42\n",
      "원 넓이: 78.54\n"
     ]
    }
   ],
   "source": [
    "from math import pi\n",
    "r = int(input(\"반지름을 입력하시오: \"))\n",
    "print(\"원 둘레: %.2f\" % (2 * pi * r))\n",
    "print(\"원 넓이: %.2f\" % (pi * r ** 2))"
   ]
  },
  {
   "cell_type": "code",
   "execution_count": 17,
   "metadata": {},
   "outputs": [
    {
     "name": "stdout",
     "output_type": "stream",
     "text": [
      "17 + 1 =   18\n",
      "17 - 1 =   16\n",
      "17 * 1 =   17\n",
      "17 / 1 =   17.0\n",
      "17 % 1 =    0\n"
     ]
    }
   ],
   "source": [
    "a, b = map(int, input(\"두 정수를 입력하세요: \").split())\n",
    "print(\"%d + %d = %4d\" % (a, b, a + b))\n",
    "print(\"%d - %d = %4d\" % (a, b, a - b))\n",
    "print(\"%d * %d = %4d\" % (a, b, a * b))\n",
    "print(\"%d / %d = %6.1f\" % (a, b, a / b))\n",
    "print(\"%d %% %d = %4d\" % (a, b, a % b))"
   ]
  },
  {
   "cell_type": "code",
   "execution_count": 22,
   "metadata": {},
   "outputs": [
    {
     "name": "stdout",
     "output_type": "stream",
     "text": [
      "입력한 날짜의 10년 후는 2034년 4월 7일\n"
     ]
    }
   ],
   "source": [
    "l = list(map(int, input(\"날짜(연/월/일) 입력: \").split('/')))\n",
    "year, month, day = l\n",
    "print(\"입력한 날짜의 10년 후는 %d년 %d월 %d일\" % (year + 10, month, day))"
   ]
  },
  {
   "cell_type": "code",
   "execution_count": 24,
   "metadata": {},
   "outputs": [
    {
     "name": "stdout",
     "output_type": "stream",
     "text": [
      "거스름돈: 2700원\n",
      "500원짜리: 5개\n",
      "100원짜리: 2개\n"
     ]
    }
   ],
   "source": [
    "def calculate_change(money, price):\n",
    "    return (money - price) // 500, (money - price) % 500 // 100\n",
    "\n",
    "money = int(input(\"투입한 돈: \"))\n",
    "price = int(input(\"물건값: \"))\n",
    "\n",
    "a, b = calculate_change(money, price)\n",
    "print(\"거스름돈: %d원\" % (money - price))\n",
    "print(\"500원짜리: %d개\" % a)\n",
    "print(\"100원짜리: %d개\" % b)"
   ]
  },
  {
   "cell_type": "markdown",
   "metadata": {},
   "source": []
  }
 ],
 "metadata": {
  "kernelspec": {
   "display_name": "base",
   "language": "python",
   "name": "python3"
  },
  "language_info": {
   "codemirror_mode": {
    "name": "ipython",
    "version": 3
   },
   "file_extension": ".py",
   "mimetype": "text/x-python",
   "name": "python",
   "nbconvert_exporter": "python",
   "pygments_lexer": "ipython3",
   "version": "3.9.12"
  }
 },
 "nbformat": 4,
 "nbformat_minor": 2
}
