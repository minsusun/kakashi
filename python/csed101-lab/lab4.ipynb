{
 "cells": [
  {
   "cell_type": "code",
   "execution_count": 1,
   "metadata": {},
   "outputs": [
    {
     "name": "stdout",
     "output_type": "stream",
     "text": [
      "7 * 1 = 7\n",
      "7 * 2 = 14\n",
      "7 * 3 = 21\n",
      "7 * 4 = 28\n",
      "7 * 5 = 35\n",
      "7 * 6 = 42\n",
      "7 * 7 = 49\n",
      "7 * 8 = 56\n",
      "7 * 9 = 63\n"
     ]
    }
   ],
   "source": [
    "a = int(input(\"출력하고 싶은 단을 입력하세요: \"))\n",
    "for i in range(1, 10):\n",
    "    print(\"%d * %d = %d\" % (a, i, a * i))"
   ]
  },
  {
   "cell_type": "code",
   "execution_count": null,
   "metadata": {},
   "outputs": [],
   "source": [
    "mid_score = int(input(\"중간고사 점수 입력: \"))\n",
    "final_score = int(input(\"기말고사 점수 입력: \"))\n",
    "\n",
    "def process(mid, final):\n",
    "    avg = (mid + final) / 2\n",
    "    print(\"평균: %.2f\" % avg)\n",
    "    if avg >= 90:\n",
    "        print(\"학점: A\")\n",
    "    elif avg >= 80:\n",
    "        print(\"학점: B\")\n",
    "    elif avg >= 70:\n",
    "        print(\"학점: C\")\n",
    "    elif avg >= 60:\n",
    "        print(\"학점: D\")\n",
    "    else:\n",
    "        print(\"학점: F\")\n",
    "\n",
    "process(mid_score, final_score)"
   ]
  },
  {
   "cell_type": "code",
   "execution_count": 3,
   "metadata": {},
   "outputs": [
    {
     "name": "stdout",
     "output_type": "stream",
     "text": [
      " 2* 1= 2 3* 1= 3 4* 1= 4 5* 1= 5 6* 1= 6 7* 1= 7 8* 1= 8 9* 1= 9\n",
      " 2* 2= 4 3* 2= 6 4* 2= 8 5* 2=10 6* 2=12 7* 2=14 8* 2=16 9* 2=18\n",
      " 2* 3= 6 3* 3= 9 4* 3=12 5* 3=15 6* 3=18 7* 3=21 8* 3=24 9* 3=27\n",
      " 2* 4= 8 3* 4=12 4* 4=16 5* 4=20 6* 4=24 7* 4=28 8* 4=32 9* 4=36\n",
      " 2* 5=10 3* 5=15 4* 5=20 5* 5=25 6* 5=30 7* 5=35 8* 5=40 9* 5=45\n",
      " 2* 6=12 3* 6=18 4* 6=24 5* 6=30 6* 6=36 7* 6=42 8* 6=48 9* 6=54\n",
      " 2* 7=14 3* 7=21 4* 7=28 5* 7=35 6* 7=42 7* 7=49 8* 7=56 9* 7=63\n",
      " 2* 8=16 3* 8=24 4* 8=32 5* 8=40 6* 8=48 7* 8=56 8* 8=64 9* 8=72\n",
      " 2* 9=18 3* 9=27 4* 9=36 5* 9=45 6* 9=54 7* 9=63 8* 9=72 9* 9=81\n"
     ]
    }
   ],
   "source": [
    "for i in range(1, 10):\n",
    "    print(\"\".join([\"%2d*%2d=%2d\" % (j, i, i * j) for j in range(2,10)]))"
   ]
  },
  {
   "cell_type": "code",
   "execution_count": 4,
   "metadata": {},
   "outputs": [
    {
     "name": "stdout",
     "output_type": "stream",
     "text": [
      "10, 9, 8, 7, 6, 5, 4, 3, 2, 1, Happy new year!\n"
     ]
    }
   ],
   "source": [
    "for i in range(10, 0, -1):\n",
    "    print(i, end=\", \")\n",
    "print(\"Happy new year!\")"
   ]
  },
  {
   "cell_type": "code",
   "execution_count": 7,
   "metadata": {},
   "outputs": [
    {
     "name": "stdout",
     "output_type": "stream",
     "text": [
      "4321\n",
      "4321"
     ]
    }
   ],
   "source": [
    "a = input(\"양의 정수 입력: \")\n",
    "#1\n",
    "print(a[::-1])\n",
    "#2\n",
    "for i in range(0, len(a)):\n",
    "    print(a[len(a) - i - 1], end = \"\")"
   ]
  },
  {
   "cell_type": "code",
   "execution_count": 8,
   "metadata": {},
   "outputs": [
    {
     "name": "stdout",
     "output_type": "stream",
     "text": [
      "== 2단 ==\n",
      "2 * 1 =  2\n",
      "2 * 2 =  4\n",
      "2 * 3 =  6\n",
      "2 * 4 =  8\n",
      "2 * 5 = 10\n",
      "2 * 6 = 12\n",
      "2 * 7 = 14\n",
      "2 * 8 = 16\n",
      "2 * 9 = 18\n",
      "== 3단 ==\n",
      "3 * 1 =  3\n",
      "3 * 2 =  6\n",
      "3 * 3 =  9\n",
      "3 * 4 = 12\n",
      "3 * 5 = 15\n",
      "3 * 6 = 18\n",
      "3 * 7 = 21\n",
      "3 * 8 = 24\n",
      "3 * 9 = 27\n",
      "== 4단 ==\n",
      "4 * 1 =  4\n",
      "4 * 2 =  8\n",
      "4 * 3 = 12\n",
      "4 * 4 = 16\n",
      "4 * 5 = 20\n",
      "4 * 6 = 24\n",
      "4 * 7 = 28\n",
      "4 * 8 = 32\n",
      "4 * 9 = 36\n",
      "== 5단 ==\n",
      "5 * 1 =  5\n",
      "5 * 2 = 10\n",
      "5 * 3 = 15\n",
      "5 * 4 = 20\n",
      "5 * 5 = 25\n",
      "5 * 6 = 30\n",
      "5 * 7 = 35\n",
      "5 * 8 = 40\n",
      "5 * 9 = 45\n",
      "== 6단 ==\n",
      "6 * 1 =  6\n",
      "6 * 2 = 12\n",
      "6 * 3 = 18\n",
      "6 * 4 = 24\n",
      "6 * 5 = 30\n",
      "6 * 6 = 36\n",
      "6 * 7 = 42\n",
      "6 * 8 = 48\n",
      "6 * 9 = 54\n",
      "== 7단 ==\n",
      "7 * 1 =  7\n",
      "7 * 2 = 14\n",
      "7 * 3 = 21\n",
      "7 * 4 = 28\n",
      "7 * 5 = 35\n",
      "7 * 6 = 42\n",
      "7 * 7 = 49\n",
      "7 * 8 = 56\n",
      "7 * 9 = 63\n",
      "== 8단 ==\n",
      "8 * 1 =  8\n",
      "8 * 2 = 16\n",
      "8 * 3 = 24\n",
      "8 * 4 = 32\n",
      "8 * 5 = 40\n",
      "8 * 6 = 48\n",
      "8 * 7 = 56\n",
      "8 * 8 = 64\n",
      "8 * 9 = 72\n",
      "== 9단 ==\n",
      "9 * 1 =  9\n",
      "9 * 2 = 18\n",
      "9 * 3 = 27\n",
      "9 * 4 = 36\n",
      "9 * 5 = 45\n",
      "9 * 6 = 54\n",
      "9 * 7 = 63\n",
      "9 * 8 = 72\n",
      "9 * 9 = 81\n"
     ]
    }
   ],
   "source": [
    "for i in range(2, 10):\n",
    "    print(\"== %d단 ==\" % i)\n",
    "    for j in range(1, 10):\n",
    "        print(\"%d * %d = %2d\" % (i, j, i * j))"
   ]
  },
  {
   "cell_type": "code",
   "execution_count": 10,
   "metadata": {},
   "outputs": [
    {
     "name": "stdout",
     "output_type": "stream",
     "text": [
      "***\n",
      "**\n",
      "*****\n",
      "*********\n"
     ]
    }
   ],
   "source": [
    "a = input()\n",
    "for i in a:\n",
    "    print(\"*\" * int(i))"
   ]
  },
  {
   "cell_type": "code",
   "execution_count": null,
   "metadata": {},
   "outputs": [],
   "source": []
  }
 ],
 "metadata": {
  "kernelspec": {
   "display_name": "base",
   "language": "python",
   "name": "python3"
  },
  "language_info": {
   "codemirror_mode": {
    "name": "ipython",
    "version": 3
   },
   "file_extension": ".py",
   "mimetype": "text/x-python",
   "name": "python",
   "nbconvert_exporter": "python",
   "pygments_lexer": "ipython3",
   "version": "3.9.12"
  }
 },
 "nbformat": 4,
 "nbformat_minor": 2
}
